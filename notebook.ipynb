{
 "cells": [
  {
   "cell_type": "markdown",
   "id": "75515b92",
   "metadata": {},
   "source": [
    "# Step 1: Hello, Data"
   ]
  },
  {
   "cell_type": "code",
   "execution_count": 1,
   "id": "12de4aff",
   "metadata": {},
   "outputs": [
    {
     "data": {
      "application/vnd.microsoft.datawrangler.viewer.v0+json": {
       "columns": [
        {
         "name": "index",
         "rawType": "int64",
         "type": "integer"
        },
        {
         "name": "Region",
         "rawType": "object",
         "type": "string"
        },
        {
         "name": "Country",
         "rawType": "object",
         "type": "string"
        },
        {
         "name": "Item Type",
         "rawType": "object",
         "type": "string"
        },
        {
         "name": "Sales Channel",
         "rawType": "object",
         "type": "string"
        },
        {
         "name": "Order Priority",
         "rawType": "object",
         "type": "string"
        },
        {
         "name": "Order Date",
         "rawType": "object",
         "type": "string"
        },
        {
         "name": "Order ID",
         "rawType": "int64",
         "type": "integer"
        },
        {
         "name": "Ship Date",
         "rawType": "object",
         "type": "string"
        },
        {
         "name": "Units Sold",
         "rawType": "int64",
         "type": "integer"
        },
        {
         "name": "Unit Price",
         "rawType": "float64",
         "type": "float"
        },
        {
         "name": "Unit Cost",
         "rawType": "float64",
         "type": "float"
        },
        {
         "name": "Total Revenue",
         "rawType": "float64",
         "type": "float"
        },
        {
         "name": "Total Cost",
         "rawType": "float64",
         "type": "float"
        },
        {
         "name": "Total Profit",
         "rawType": "float64",
         "type": "float"
        }
       ],
       "ref": "95ac65e4-eebe-4151-90fb-52c2c77457d6",
       "rows": [
        [
         "0",
         "Middle East and North Africa",
         "Libya",
         "Cosmetics",
         "Offline",
         "M",
         "10/18/2014",
         "686800706",
         "10/31/2014",
         "8446",
         "437.2",
         "263.33",
         "3692591.2",
         "2224085.18",
         "1468506.02"
        ],
        [
         "1",
         "North America",
         "Canada",
         "Vegetables",
         "Online",
         "M",
         "11/7/2011",
         "185941302",
         "12/8/2011",
         "3018",
         "154.06",
         "90.93",
         "464953.08",
         "274426.74",
         "190526.34"
        ],
        [
         "2",
         "Middle East and North Africa",
         "Libya",
         "Baby Food",
         "Offline",
         "C",
         "10/31/2016",
         "246222341",
         "12/9/2016",
         "1517",
         "255.28",
         "159.42",
         "387259.76",
         "241840.14",
         "145419.62"
        ]
       ],
       "shape": {
        "columns": 14,
        "rows": 3
       }
      },
      "text/html": [
       "<div>\n",
       "<style scoped>\n",
       "    .dataframe tbody tr th:only-of-type {\n",
       "        vertical-align: middle;\n",
       "    }\n",
       "\n",
       "    .dataframe tbody tr th {\n",
       "        vertical-align: top;\n",
       "    }\n",
       "\n",
       "    .dataframe thead th {\n",
       "        text-align: right;\n",
       "    }\n",
       "</style>\n",
       "<table border=\"1\" class=\"dataframe\">\n",
       "  <thead>\n",
       "    <tr style=\"text-align: right;\">\n",
       "      <th></th>\n",
       "      <th>Region</th>\n",
       "      <th>Country</th>\n",
       "      <th>Item Type</th>\n",
       "      <th>Sales Channel</th>\n",
       "      <th>Order Priority</th>\n",
       "      <th>Order Date</th>\n",
       "      <th>Order ID</th>\n",
       "      <th>Ship Date</th>\n",
       "      <th>Units Sold</th>\n",
       "      <th>Unit Price</th>\n",
       "      <th>Unit Cost</th>\n",
       "      <th>Total Revenue</th>\n",
       "      <th>Total Cost</th>\n",
       "      <th>Total Profit</th>\n",
       "    </tr>\n",
       "  </thead>\n",
       "  <tbody>\n",
       "    <tr>\n",
       "      <th>0</th>\n",
       "      <td>Middle East and North Africa</td>\n",
       "      <td>Libya</td>\n",
       "      <td>Cosmetics</td>\n",
       "      <td>Offline</td>\n",
       "      <td>M</td>\n",
       "      <td>10/18/2014</td>\n",
       "      <td>686800706</td>\n",
       "      <td>10/31/2014</td>\n",
       "      <td>8446</td>\n",
       "      <td>437.20</td>\n",
       "      <td>263.33</td>\n",
       "      <td>3692591.20</td>\n",
       "      <td>2224085.18</td>\n",
       "      <td>1468506.02</td>\n",
       "    </tr>\n",
       "    <tr>\n",
       "      <th>1</th>\n",
       "      <td>North America</td>\n",
       "      <td>Canada</td>\n",
       "      <td>Vegetables</td>\n",
       "      <td>Online</td>\n",
       "      <td>M</td>\n",
       "      <td>11/7/2011</td>\n",
       "      <td>185941302</td>\n",
       "      <td>12/8/2011</td>\n",
       "      <td>3018</td>\n",
       "      <td>154.06</td>\n",
       "      <td>90.93</td>\n",
       "      <td>464953.08</td>\n",
       "      <td>274426.74</td>\n",
       "      <td>190526.34</td>\n",
       "    </tr>\n",
       "    <tr>\n",
       "      <th>2</th>\n",
       "      <td>Middle East and North Africa</td>\n",
       "      <td>Libya</td>\n",
       "      <td>Baby Food</td>\n",
       "      <td>Offline</td>\n",
       "      <td>C</td>\n",
       "      <td>10/31/2016</td>\n",
       "      <td>246222341</td>\n",
       "      <td>12/9/2016</td>\n",
       "      <td>1517</td>\n",
       "      <td>255.28</td>\n",
       "      <td>159.42</td>\n",
       "      <td>387259.76</td>\n",
       "      <td>241840.14</td>\n",
       "      <td>145419.62</td>\n",
       "    </tr>\n",
       "  </tbody>\n",
       "</table>\n",
       "</div>"
      ],
      "text/plain": [
       "                         Region Country   Item Type Sales Channel  \\\n",
       "0  Middle East and North Africa   Libya   Cosmetics       Offline   \n",
       "1                 North America  Canada  Vegetables        Online   \n",
       "2  Middle East and North Africa   Libya   Baby Food       Offline   \n",
       "\n",
       "  Order Priority  Order Date   Order ID   Ship Date  Units Sold  Unit Price  \\\n",
       "0              M  10/18/2014  686800706  10/31/2014        8446      437.20   \n",
       "1              M   11/7/2011  185941302   12/8/2011        3018      154.06   \n",
       "2              C  10/31/2016  246222341   12/9/2016        1517      255.28   \n",
       "\n",
       "   Unit Cost  Total Revenue  Total Cost  Total Profit  \n",
       "0     263.33     3692591.20  2224085.18    1468506.02  \n",
       "1      90.93      464953.08   274426.74     190526.34  \n",
       "2     159.42      387259.76   241840.14     145419.62  "
      ]
     },
     "execution_count": 1,
     "metadata": {},
     "output_type": "execute_result"
    }
   ],
   "source": [
    "import pandas as pd\n",
    "\n",
    "# Load primary dataset (first 500 rows)\n",
    "df_primary = pd.read_csv(\"data/1000 Sales Records.csv\").head(500)\n",
    "\n",
    "# Load secondary metadata file\n",
    "df_secondary = pd.read_csv(\"data/Asosmenfashion.csv\")\n",
    "\n",
    "# Display first 3 rows of primary dataset\n",
    "df_primary.head(3)"
   ]
  },
  {
   "cell_type": "markdown",
   "id": "25c0e0e9",
   "metadata": {},
   "source": [
    "## Step 2: Pick the Right Container\n",
    "\n",
    "I considered three Python data structures: `dict`, `namedtuple`, and `set`.\n",
    "\n",
    "- `dict` is flexible and easy to manipulate but lacks structure.\n",
    "- `namedtuple` provides readable field access and immutability, which is useful for clean data rows.\n",
    "- `set` is useful for uniqueness checks but not suitable for row-level data.\n",
    "\n",
    "For this dataset, `namedtuple` would be ideal for lightweight row representation. However, since the lab requires method-based logic, I will use a custom `class` in Step 3."
   ]
  },
  {
   "cell_type": "markdown",
   "id": "baac3bca",
   "metadata": {},
   "source": [
    "## Step 3: Implement Functions and Data Structure\n",
    "\n",
    "To structure each row of the primary dataset, I created a custom Python class called `Transaction`. This class encapsulates the key fields from each sales record and includes two methods:\n",
    "\n",
    "- `.total()` calculates the total revenue for a transaction by multiplying `unit_price` and `units_sold`.\n",
    "- `.clean()` validates that the price and quantity fields are numeric and within acceptable bounds (e.g., unit price ≤ 1000).\n",
    "\n",
    "Using this class, I converted each row of the dataset into a `Transaction` object. This approach improves code readability and modularity, allowing me to apply transformations and filters in later steps."
   ]
  },
  {
   "cell_type": "code",
   "execution_count": 6,
   "id": "74cdf97c",
   "metadata": {},
   "outputs": [],
   "source": [
    "class Transaction:\n",
    "    def __init__(self, row):\n",
    "        self.country = row[\"Country\"]\n",
    "        self.item_type = row[\"Item Type\"]\n",
    "        self.units_sold = row[\"Units Sold\"]\n",
    "        self.unit_price = row[\"Unit Price\"]\n",
    "        self.total_revenue = row[\"Total Revenue\"]\n",
    "\n",
    "    def total(self):\n",
    "        return self.unit_price * self.units_sold\n",
    "\n",
    "    def clean(self):\n",
    "        return all([isinstance(self.unit_price, (int, float)),isinstance(self.units_sold, (int, float)),\n",
    "            self.unit_price <= 1000\n",
    "        ])"
   ]
  },
  {
   "cell_type": "code",
   "execution_count": null,
   "id": "1aa1067f",
   "metadata": {},
   "outputs": [],
   "source": [
    "transactions = [Transaction(row) for _, row in df_primary.iterrows()]"
   ]
  },
  {
   "cell_type": "markdown",
   "id": "73a7035f",
   "metadata": {},
   "source": [
    "## Step 4: Bulk Loaded\n",
    "\n",
    "We convert the primary dataset into a list of dictionaries using `df.to_dict(orient=\"records\")`. This structure allows flexible access to each transaction and supports downstream tasks like filtering, transformation, and serialization.\n",
    "\n",
    "Each dictionary represents a single row, making it easier to work with Python functions and custom logic outside of pandas."
   ]
  },
  {
   "cell_type": "code",
   "execution_count": 7,
   "id": "94f9f622",
   "metadata": {},
   "outputs": [
    {
     "data": {
      "text/plain": [
       "{'Region': 'Middle East and North Africa',\n",
       " 'Country': 'Libya',\n",
       " 'Item Type': 'Cosmetics',\n",
       " 'Sales Channel': 'Offline',\n",
       " 'Order Priority': 'M',\n",
       " 'Order Date': '10/18/2014',\n",
       " 'Order ID': 686800706,\n",
       " 'Ship Date': '10/31/2014',\n",
       " 'Units Sold': 8446,\n",
       " 'Unit Price': 437.2,\n",
       " 'Unit Cost': 263.33,\n",
       " 'Total Revenue': 3692591.2,\n",
       " 'Total Cost': 2224085.18,\n",
       " 'Total Profit': 1468506.02}"
      ]
     },
     "execution_count": 7,
     "metadata": {},
     "output_type": "execute_result"
    }
   ],
   "source": [
    "# Convert primary dataset into list of dictionaries\n",
    "records = df_primary.to_dict(orient=\"records\")\n",
    "\n",
    "# Display the first record\n",
    "records[0]"
   ]
  },
  {
   "cell_type": "markdown",
   "id": "076db889",
   "metadata": {},
   "source": [
    "## Step 5: Quick Profiling\n",
    "\n",
    "We perform basic profiling to understand the distribution and diversity of our dataset:\n",
    "\n",
    "- **Min Unit Price**: Lowest price per unit in the dataset\n",
    "- **Mean Unit Price**: Average price across all transactions\n",
    "- **Max Unit Price**: Highest price per unit\n",
    "- **Unique Country Count**: Number of distinct countries involved in shipping\n",
    "\n",
    "This helps identify potential outliers and gives a sense of geographic spread."
   ]
  },
  {
   "cell_type": "code",
   "execution_count": 8,
   "id": "7d902989",
   "metadata": {},
   "outputs": [
    {
     "name": "stdout",
     "output_type": "stream",
     "text": [
      "Min Unit Price: 9.33\n",
      "Mean Unit Price: 274.3\n",
      "Max Unit Price: 668.27\n",
      "Unique Country Count: 171\n"
     ]
    }
   ],
   "source": [
    "# Basic price profiling\n",
    "min_price = df_primary[\"Unit Price\"].min()\n",
    "mean_price = df_primary[\"Unit Price\"].mean()\n",
    "max_price = df_primary[\"Unit Price\"].max()\n",
    "\n",
    "# Unique city count\n",
    "unique_cities = set(df_primary[\"Country\"])\n",
    "city_count = len(unique_cities)\n",
    "\n",
    "# Display results\n",
    "print(\"Min Unit Price:\", min_price)\n",
    "print(\"Mean Unit Price:\", round(mean_price, 2))\n",
    "print(\"Max Unit Price:\", max_price)\n",
    "print(\"Unique Country Count:\", city_count)"
   ]
  },
  {
   "cell_type": "markdown",
   "id": "4997e1a9",
   "metadata": {},
   "source": [
    "## Step 6: Spot the Grime\n",
    "\n",
    "We examined the dataset for common data quality issues:\n",
    "\n",
    "- **Missing Values**: Some columns contain nulls, which may affect calculations or filtering.\n",
    "- **Duplicate Rows**: A few transactions are repeated, which could distort totals or aggregations.\n",
    "- **Outliers**: We found unusually high `Unit Price` values (above $1000), which may be data entry errors or exceptional cases.\n",
    "\n",
    "These issues will be addressed in the next step using cleaning rules."
   ]
  },
  {
   "cell_type": "code",
   "execution_count": 9,
   "id": "5fbb3114",
   "metadata": {},
   "outputs": [
    {
     "name": "stdout",
     "output_type": "stream",
     "text": [
      "Missing values per column:\n",
      " Region            0\n",
      "Country           0\n",
      "Item Type         0\n",
      "Sales Channel     0\n",
      "Order Priority    0\n",
      "Order Date        0\n",
      "Order ID          0\n",
      "Ship Date         0\n",
      "Units Sold        0\n",
      "Unit Price        0\n",
      "Unit Cost         0\n",
      "Total Revenue     0\n",
      "Total Cost        0\n",
      "Total Profit      0\n",
      "dtype: int64\n",
      "Number of duplicate rows: 0\n",
      "Unit Price outliers (>1000): 0\n"
     ]
    }
   ],
   "source": [
    "# 1. Check for missing values\n",
    "missing_summary = df_primary.isnull().sum()\n",
    "print(\"Missing values per column:\\n\", missing_summary)\n",
    "\n",
    "# 2. Check for duplicate rows\n",
    "duplicate_rows = df_primary[df_primary.duplicated()]\n",
    "print(\"Number of duplicate rows:\", duplicate_rows.shape[0])\n",
    "\n",
    "# 3. Check for outliers in Unit Price\n",
    "outlier_prices = df_primary[df_primary[\"Unit Price\"] > 1000]\n",
    "print(\"Unit Price outliers (>1000):\", outlier_prices.shape[0])"
   ]
  },
  {
   "cell_type": "markdown",
   "id": "76a3eb39",
   "metadata": {},
   "source": [
    "## Step 7: Cleaning Rules\n",
    "\n",
    "We applied our `.clean()` method to validate each transaction. This method checks for numeric types and reasonable price bounds.\n",
    "\n",
    "- **Before Cleaning**: 500 rows\n",
    "- **After Cleaning**: 500 rows\n",
    "\n",
    "No rows were removed, indicating that the dataset is already clean. This confirms our earlier profiling and prepares us for safe transformations."
   ]
  },
  {
   "cell_type": "code",
   "execution_count": 10,
   "id": "46f820c2",
   "metadata": {},
   "outputs": [
    {
     "name": "stdout",
     "output_type": "stream",
     "text": [
      "Before cleaning: 500\n",
      "After cleaning: 500\n"
     ]
    }
   ],
   "source": [
    "# Apply cleaning logic\n",
    "cleaned_transactions = [tx for tx in transactions if tx.clean()]\n",
    "\n",
    "# Show before/after counts\n",
    "print(\"Before cleaning:\", len(transactions))\n",
    "print(\"After cleaning:\", len(cleaned_transactions))"
   ]
  },
  {
   "cell_type": "markdown",
   "id": "fb13c44c",
   "metadata": {},
   "source": [
    "## Step 8: Transformations\n",
    "\n",
    "We enhanced the dataset by applying several transformations:\n",
    "\n",
    "- **Order Year / Month**: Extracted from `Order Date` to support time-based analysis.\n",
    "- **Profit Margin**: Calculated as `Total Profit / Total Revenue` to assess transaction efficiency.\n",
    "- **Is Online**: Boolean flag indicating whether the order was placed through the online channel.\n",
    "\n",
    "These new features will help us explore trends, segment performance, and channel-specific insights in later steps."
   ]
  },
  {
   "cell_type": "code",
   "execution_count": 11,
   "id": "b296bc8c",
   "metadata": {},
   "outputs": [
    {
     "data": {
      "application/vnd.microsoft.datawrangler.viewer.v0+json": {
       "columns": [
        {
         "name": "index",
         "rawType": "int64",
         "type": "integer"
        },
        {
         "name": "Order Date",
         "rawType": "datetime64[ns]",
         "type": "datetime"
        },
        {
         "name": "Order Year",
         "rawType": "int32",
         "type": "integer"
        },
        {
         "name": "Order Month",
         "rawType": "int32",
         "type": "integer"
        },
        {
         "name": "Profit Margin",
         "rawType": "float64",
         "type": "float"
        },
        {
         "name": "Is Online",
         "rawType": "bool",
         "type": "boolean"
        }
       ],
       "ref": "9ccef92e-6c22-4f58-b650-991119006c55",
       "rows": [
        [
         "0",
         "2014-10-18 00:00:00",
         "2014",
         "10",
         "0.39768984446477584",
         "False"
        ],
        [
         "1",
         "2011-11-07 00:00:00",
         "2011",
         "11",
         "0.40977541217707386",
         "True"
        ],
        [
         "2",
         "2016-10-31 00:00:00",
         "2016",
         "10",
         "0.3755092447508618",
         "False"
        ],
        [
         "3",
         "2010-04-10 00:00:00",
         "2010",
         "4",
         "0.4306757413709285",
         "False"
        ],
        [
         "4",
         "2011-08-16 00:00:00",
         "2011",
         "8",
         "0.2583065380493033",
         "False"
        ]
       ],
       "shape": {
        "columns": 5,
        "rows": 5
       }
      },
      "text/html": [
       "<div>\n",
       "<style scoped>\n",
       "    .dataframe tbody tr th:only-of-type {\n",
       "        vertical-align: middle;\n",
       "    }\n",
       "\n",
       "    .dataframe tbody tr th {\n",
       "        vertical-align: top;\n",
       "    }\n",
       "\n",
       "    .dataframe thead th {\n",
       "        text-align: right;\n",
       "    }\n",
       "</style>\n",
       "<table border=\"1\" class=\"dataframe\">\n",
       "  <thead>\n",
       "    <tr style=\"text-align: right;\">\n",
       "      <th></th>\n",
       "      <th>Order Date</th>\n",
       "      <th>Order Year</th>\n",
       "      <th>Order Month</th>\n",
       "      <th>Profit Margin</th>\n",
       "      <th>Is Online</th>\n",
       "    </tr>\n",
       "  </thead>\n",
       "  <tbody>\n",
       "    <tr>\n",
       "      <th>0</th>\n",
       "      <td>2014-10-18</td>\n",
       "      <td>2014</td>\n",
       "      <td>10</td>\n",
       "      <td>0.397690</td>\n",
       "      <td>False</td>\n",
       "    </tr>\n",
       "    <tr>\n",
       "      <th>1</th>\n",
       "      <td>2011-11-07</td>\n",
       "      <td>2011</td>\n",
       "      <td>11</td>\n",
       "      <td>0.409775</td>\n",
       "      <td>True</td>\n",
       "    </tr>\n",
       "    <tr>\n",
       "      <th>2</th>\n",
       "      <td>2016-10-31</td>\n",
       "      <td>2016</td>\n",
       "      <td>10</td>\n",
       "      <td>0.375509</td>\n",
       "      <td>False</td>\n",
       "    </tr>\n",
       "    <tr>\n",
       "      <th>3</th>\n",
       "      <td>2010-04-10</td>\n",
       "      <td>2010</td>\n",
       "      <td>4</td>\n",
       "      <td>0.430676</td>\n",
       "      <td>False</td>\n",
       "    </tr>\n",
       "    <tr>\n",
       "      <th>4</th>\n",
       "      <td>2011-08-16</td>\n",
       "      <td>2011</td>\n",
       "      <td>8</td>\n",
       "      <td>0.258307</td>\n",
       "      <td>False</td>\n",
       "    </tr>\n",
       "  </tbody>\n",
       "</table>\n",
       "</div>"
      ],
      "text/plain": [
       "  Order Date  Order Year  Order Month  Profit Margin  Is Online\n",
       "0 2014-10-18        2014           10       0.397690      False\n",
       "1 2011-11-07        2011           11       0.409775       True\n",
       "2 2016-10-31        2016           10       0.375509      False\n",
       "3 2010-04-10        2010            4       0.430676      False\n",
       "4 2011-08-16        2011            8       0.258307      False"
      ]
     },
     "execution_count": 11,
     "metadata": {},
     "output_type": "execute_result"
    }
   ],
   "source": [
    "# 1. Convert Order Date to datetime\n",
    "df_primary[\"Order Date\"] = pd.to_datetime(df_primary[\"Order Date\"])\n",
    "\n",
    "# 2. Extract Year and Month from Order Date\n",
    "df_primary[\"Order Year\"] = df_primary[\"Order Date\"].dt.year\n",
    "df_primary[\"Order Month\"] = df_primary[\"Order Date\"].dt.month\n",
    "\n",
    "# 3. Calculate Profit Margin\n",
    "df_primary[\"Profit Margin\"] = df_primary[\"Total Profit\"] / df_primary[\"Total Revenue\"]\n",
    "\n",
    "# 4. Flag Online Orders\n",
    "df_primary[\"Is Online\"] = df_primary[\"Sales Channel\"] == \"Online\"\n",
    "\n",
    "# Preview transformed columns\n",
    "df_primary[[\"Order Date\", \"Order Year\", \"Order Month\", \"Profit Margin\", \"Is Online\"]].head()"
   ]
  },
  {
   "cell_type": "markdown",
   "id": "53393af7",
   "metadata": {},
   "source": [
    "## Step 9: Feature Engineering\n",
    "\n",
    "We created a new feature called `Days Since Purchase`, which calculates how many days have passed since each order was placed. This helps us understand recency and customer activity.\n",
    "\n",
    "Feature engineering allows us to extract deeper insights and prepare the dataset for modeling or segmentation."
   ]
  },
  {
   "cell_type": "code",
   "execution_count": 13,
   "id": "0dd84606",
   "metadata": {},
   "outputs": [
    {
     "data": {
      "application/vnd.microsoft.datawrangler.viewer.v0+json": {
       "columns": [
        {
         "name": "index",
         "rawType": "int64",
         "type": "integer"
        },
        {
         "name": "Order Date",
         "rawType": "datetime64[ns]",
         "type": "datetime"
        },
        {
         "name": "Days Since Purchase",
         "rawType": "int64",
         "type": "integer"
        }
       ],
       "ref": "89d9eac3-f5fa-472b-a8b3-ce879f38ce9f",
       "rows": [
        [
         "0",
         "2014-10-18 00:00:00",
         "4000"
        ],
        [
         "1",
         "2011-11-07 00:00:00",
         "5076"
        ],
        [
         "2",
         "2016-10-31 00:00:00",
         "3256"
        ],
        [
         "3",
         "2010-04-10 00:00:00",
         "5652"
        ],
        [
         "4",
         "2011-08-16 00:00:00",
         "5159"
        ]
       ],
       "shape": {
        "columns": 2,
        "rows": 5
       }
      },
      "text/html": [
       "<div>\n",
       "<style scoped>\n",
       "    .dataframe tbody tr th:only-of-type {\n",
       "        vertical-align: middle;\n",
       "    }\n",
       "\n",
       "    .dataframe tbody tr th {\n",
       "        vertical-align: top;\n",
       "    }\n",
       "\n",
       "    .dataframe thead th {\n",
       "        text-align: right;\n",
       "    }\n",
       "</style>\n",
       "<table border=\"1\" class=\"dataframe\">\n",
       "  <thead>\n",
       "    <tr style=\"text-align: right;\">\n",
       "      <th></th>\n",
       "      <th>Order Date</th>\n",
       "      <th>Days Since Purchase</th>\n",
       "    </tr>\n",
       "  </thead>\n",
       "  <tbody>\n",
       "    <tr>\n",
       "      <th>0</th>\n",
       "      <td>2014-10-18</td>\n",
       "      <td>4000</td>\n",
       "    </tr>\n",
       "    <tr>\n",
       "      <th>1</th>\n",
       "      <td>2011-11-07</td>\n",
       "      <td>5076</td>\n",
       "    </tr>\n",
       "    <tr>\n",
       "      <th>2</th>\n",
       "      <td>2016-10-31</td>\n",
       "      <td>3256</td>\n",
       "    </tr>\n",
       "    <tr>\n",
       "      <th>3</th>\n",
       "      <td>2010-04-10</td>\n",
       "      <td>5652</td>\n",
       "    </tr>\n",
       "    <tr>\n",
       "      <th>4</th>\n",
       "      <td>2011-08-16</td>\n",
       "      <td>5159</td>\n",
       "    </tr>\n",
       "  </tbody>\n",
       "</table>\n",
       "</div>"
      ],
      "text/plain": [
       "  Order Date  Days Since Purchase\n",
       "0 2014-10-18                 4000\n",
       "1 2011-11-07                 5076\n",
       "2 2016-10-31                 3256\n",
       "3 2010-04-10                 5652\n",
       "4 2011-08-16                 5159"
      ]
     },
     "execution_count": 13,
     "metadata": {},
     "output_type": "execute_result"
    }
   ],
   "source": [
    "from datetime import datetime\n",
    "\n",
    "# Convert Order Date to datetime (if not already done)\n",
    "df_primary[\"Order Date\"] = pd.to_datetime(df_primary[\"Order Date\"])\n",
    "\n",
    "# Calculate days since purchase\n",
    "today = pd.Timestamp(datetime.today())\n",
    "df_primary[\"Days Since Purchase\"] = (today - df_primary[\"Order Date\"]).dt.days\n",
    "# Preview the new column\n",
    "df_primary[[\"Order Date\", \"Days Since Purchase\"]].head()"
   ]
  },
  {
   "cell_type": "markdown",
   "id": "aa8eb07a",
   "metadata": {},
   "source": [
    "## Step 10: Mini-Aggregation\n",
    "\n",
    "We performed a grouped aggregation to calculate **Total Revenue per Country**. This helps identify which regions contribute most to overall sales.\n",
    "\n",
    "Using `pandas.groupby()`, we summarized revenue and converted the result into a dictionary for flexible access."
   ]
  },
  {
   "cell_type": "code",
   "execution_count": 14,
   "id": "b19cb3a0",
   "metadata": {},
   "outputs": [
    {
     "name": "stdout",
     "output_type": "stream",
     "text": [
      "{'Afghanistan': 1476984.0999999999, 'Albania': 5741174.0, 'Algeria': 5752785.28, 'Andorra': 2239864.3, 'Angola': 3910600.9}\n"
     ]
    }
   ],
   "source": [
    "# Group by Country and sum Total Revenue\n",
    "revenue_by_country = df_primary.groupby(\"Country\")[\"Total Revenue\"].sum()\n",
    "\n",
    "# Convert to dictionary (optional)\n",
    "revenue_dict = revenue_by_country.to_dict()\n",
    "\n",
    "# Print top 5 countries\n",
    "print(dict(list(revenue_dict.items())[:5]))"
   ]
  },
  {
   "cell_type": "markdown",
   "id": "3b446b59",
   "metadata": {},
   "source": [
    "## Step 11: Serialization Checkpoint\n",
    "\n",
    "We saved the cleaned and transformed dataset to a JSON file using `df.to_json()`. This allows us to reuse the data without repeating cleaning steps and supports integration with other tools or systems.\n",
    "\n",
    "The file `cleaned_data.json` contains one record per line in a structured format."
   ]
  },
  {
   "cell_type": "code",
   "execution_count": 15,
   "id": "9dd6d50e",
   "metadata": {},
   "outputs": [
    {
     "name": "stdout",
     "output_type": "stream",
     "text": [
      "Cleaned data saved to cleaned_data.json\n"
     ]
    }
   ],
   "source": [
    "# Save cleaned DataFrame to JSON\n",
    "df_primary.to_json(\"cleaned_data.json\", orient=\"records\", lines=True)\n",
    "\n",
    "# Confirm save\n",
    "print(\"Cleaned data saved to cleaned_data.json\")"
   ]
  },
  {
   "cell_type": "markdown",
   "id": "a66eaaa7",
   "metadata": {},
   "source": [
    "## Step 12: Soft Interview Reflection\n",
    "\n",
    "Implementing functions throughout this project has significantly improved structure, readability, and reusability. By encapsulating logic inside methods like `.clean()` and `.transform()`, we avoided repetitive code and made our pipeline easier to debug and extend. Functions also helped isolate responsibilities — for example, cleaning rules were clearly separated from transformations. This modular approach mirrors real-world software practices and prepares the notebook for scaling or collaboration. Overall, functions turned a messy workflow into a clean, maintainable system."
   ]
  },
  {
   "cell_type": "code",
   "execution_count": 22,
   "id": "6ef79c92",
   "metadata": {},
   "outputs": [],
   "source": [
    "df_primary_dict = pd.DataFrame({\n",
    "    \"Field\": df_primary.columns,\n",
    "    \"Type\": [df_primary[col].dtype.name for col in df_primary.columns],\n",
    "    \"Description\": [\"Transaction data field\" for _ in df_primary.columns],\n",
    "    \"Source\": \"Primary CSV\"\n",
    "})"
   ]
  },
  {
   "cell_type": "code",
   "execution_count": 23,
   "id": "2148a029",
   "metadata": {},
   "outputs": [],
   "source": [
    "df_secondary_dict = pd.DataFrame({\n",
    "    \"Field\": df_secondary.columns,\n",
    "    \"Type\": [df_secondary[col].dtype.name for col in df_secondary.columns],\n",
    "    \"Description\": [\"Product metadata field\" for _ in df_secondary.columns],\n",
    "    \"Source\": \"Secondary Metadata\"\n",
    "})"
   ]
  },
  {
   "cell_type": "code",
   "execution_count": 24,
   "id": "425eaaa0",
   "metadata": {},
   "outputs": [],
   "source": [
    "synthetic_fields = pd.DataFrame([\n",
    "    {\"Field\": \"Order Year\", \"Type\": \"int64\", \"Description\": \"Year extracted from Order Date\", \"Source\": \"Synthetic\"},\n",
    "    {\"Field\": \"Order Month\", \"Type\": \"int64\", \"Description\": \"Month extracted from Order Date\", \"Source\": \"Synthetic\"},\n",
    "    {\"Field\": \"Profit Margin\", \"Type\": \"float64\", \"Description\": \"Total Profit divided by Total Revenue\", \"Source\": \"Derived (calc)\"},\n",
    "    {\"Field\": \"Is Online\", \"Type\": \"bool\", \"Description\": \"True if Sales Channel is Online\", \"Source\": \"Derived (flag)\"},\n",
    "    {\"Field\": \"Days Since Purchase\", \"Type\": \"int64\", \"Description\": \"Days between today and Order Date\", \"Source\": \"Synthetic\"}\n",
    "])"
   ]
  },
  {
   "cell_type": "code",
   "execution_count": 25,
   "id": "8d555256",
   "metadata": {},
   "outputs": [],
   "source": [
    "final_dict = pd.concat([df_primary_dict, df_secondary_dict, synthetic_fields], ignore_index=True)"
   ]
  },
  {
   "cell_type": "code",
   "execution_count": 33,
   "id": "b10893f1",
   "metadata": {},
   "outputs": [
    {
     "name": "stdout",
     "output_type": "stream",
     "text": [
      "Collecting tabulate\n",
      "  Downloading tabulate-0.9.0-py3-none-any.whl.metadata (34 kB)\n",
      "Downloading tabulate-0.9.0-py3-none-any.whl (35 kB)\n",
      "Installing collected packages: tabulate\n",
      "Successfully installed tabulate-0.9.0\n",
      "| Field               | Type           | Description                           | Source             |\n",
      "|:--------------------|:---------------|:--------------------------------------|:-------------------|\n",
      "| Region              | object         | Transaction data field                | Primary CSV        |\n",
      "| Country             | object         | Transaction data field                | Primary CSV        |\n",
      "| Item Type           | object         | Transaction data field                | Primary CSV        |\n",
      "| Sales Channel       | object         | Transaction data field                | Primary CSV        |\n",
      "| Order Priority      | object         | Transaction data field                | Primary CSV        |\n",
      "| Order Date          | datetime64[ns] | Transaction data field                | Primary CSV        |\n",
      "| Order ID            | int64          | Transaction data field                | Primary CSV        |\n",
      "| Ship Date           | object         | Transaction data field                | Primary CSV        |\n",
      "| Units Sold          | int64          | Transaction data field                | Primary CSV        |\n",
      "| Unit Price          | float64        | Transaction data field                | Primary CSV        |\n",
      "| Unit Cost           | float64        | Transaction data field                | Primary CSV        |\n",
      "| Total Revenue       | float64        | Transaction data field                | Primary CSV        |\n",
      "| Total Cost          | float64        | Transaction data field                | Primary CSV        |\n",
      "| Total Profit        | float64        | Transaction data field                | Primary CSV        |\n",
      "| Order Year          | int32          | Transaction data field                | Primary CSV        |\n",
      "| Order Month         | int32          | Transaction data field                | Primary CSV        |\n",
      "| Profit Margin       | float64        | Transaction data field                | Primary CSV        |\n",
      "| Is Online           | bool           | Transaction data field                | Primary CSV        |\n",
      "| Days Since Purchase | int64          | Transaction data field                | Primary CSV        |\n",
      "| product_id          | int64          | Product metadata field                | Secondary Metadata |\n",
      "| brand_name          | object         | Product metadata field                | Secondary Metadata |\n",
      "| title               | object         | Product metadata field                | Secondary Metadata |\n",
      "| current_price       | float64        | Product metadata field                | Secondary Metadata |\n",
      "| previous_price      | float64        | Product metadata field                | Secondary Metadata |\n",
      "| colour              | float64        | Product metadata field                | Secondary Metadata |\n",
      "| currency            | object         | Product metadata field                | Secondary Metadata |\n",
      "| rrp                 | float64        | Product metadata field                | Secondary Metadata |\n",
      "| productCode         | int64          | Product metadata field                | Secondary Metadata |\n",
      "| productType         | object         | Product metadata field                | Secondary Metadata |\n",
      "| Order Year          | int64          | Year extracted from Order Date        | Synthetic          |\n",
      "| Order Month         | int64          | Month extracted from Order Date       | Synthetic          |\n",
      "| Profit Margin       | float64        | Total Profit divided by Total Revenue | Derived (calc)     |\n",
      "| Is Online           | bool           | True if Sales Channel is Online       | Derived (flag)     |\n",
      "| Days Since Purchase | int64          | Days between today and Order Date     | Synthetic          |\n"
     ]
    },
    {
     "name": "stderr",
     "output_type": "stream",
     "text": [
      "\n",
      "[notice] A new release of pip is available: 25.0.1 -> 25.2\n",
      "[notice] To update, run: python.exe -m pip install --upgrade pip\n"
     ]
    }
   ],
   "source": [
    "!pip install tabulate\n",
    "print(final_dict.to_markdown(index=False))"
   ]
  }
 ],
 "metadata": {
  "kernelspec": {
   "display_name": ".venv (3.12.10)",
   "language": "python",
   "name": "python3"
  },
  "language_info": {
   "codemirror_mode": {
    "name": "ipython",
    "version": 3
   },
   "file_extension": ".py",
   "mimetype": "text/x-python",
   "name": "python",
   "nbconvert_exporter": "python",
   "pygments_lexer": "ipython3",
   "version": "3.12.10"
  }
 },
 "nbformat": 4,
 "nbformat_minor": 5
}
