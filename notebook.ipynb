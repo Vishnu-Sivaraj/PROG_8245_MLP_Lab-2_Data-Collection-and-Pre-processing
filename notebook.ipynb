{
 "cells": [
  {
   "cell_type": "markdown",
   "id": "75515b92",
   "metadata": {},
   "source": [
    "# Step 1: Hello, Data"
   ]
  },
  {
   "cell_type": "code",
   "execution_count": 1,
   "id": "12de4aff",
   "metadata": {},
   "outputs": [
    {
     "data": {
      "application/vnd.microsoft.datawrangler.viewer.v0+json": {
       "columns": [
        {
         "name": "index",
         "rawType": "int64",
         "type": "integer"
        },
        {
         "name": "Region",
         "rawType": "object",
         "type": "string"
        },
        {
         "name": "Country",
         "rawType": "object",
         "type": "string"
        },
        {
         "name": "Item Type",
         "rawType": "object",
         "type": "string"
        },
        {
         "name": "Sales Channel",
         "rawType": "object",
         "type": "string"
        },
        {
         "name": "Order Priority",
         "rawType": "object",
         "type": "string"
        },
        {
         "name": "Order Date",
         "rawType": "object",
         "type": "string"
        },
        {
         "name": "Order ID",
         "rawType": "int64",
         "type": "integer"
        },
        {
         "name": "Ship Date",
         "rawType": "object",
         "type": "string"
        },
        {
         "name": "Units Sold",
         "rawType": "int64",
         "type": "integer"
        },
        {
         "name": "Unit Price",
         "rawType": "float64",
         "type": "float"
        },
        {
         "name": "Unit Cost",
         "rawType": "float64",
         "type": "float"
        },
        {
         "name": "Total Revenue",
         "rawType": "float64",
         "type": "float"
        },
        {
         "name": "Total Cost",
         "rawType": "float64",
         "type": "float"
        },
        {
         "name": "Total Profit",
         "rawType": "float64",
         "type": "float"
        }
       ],
       "ref": "95ac65e4-eebe-4151-90fb-52c2c77457d6",
       "rows": [
        [
         "0",
         "Middle East and North Africa",
         "Libya",
         "Cosmetics",
         "Offline",
         "M",
         "10/18/2014",
         "686800706",
         "10/31/2014",
         "8446",
         "437.2",
         "263.33",
         "3692591.2",
         "2224085.18",
         "1468506.02"
        ],
        [
         "1",
         "North America",
         "Canada",
         "Vegetables",
         "Online",
         "M",
         "11/7/2011",
         "185941302",
         "12/8/2011",
         "3018",
         "154.06",
         "90.93",
         "464953.08",
         "274426.74",
         "190526.34"
        ],
        [
         "2",
         "Middle East and North Africa",
         "Libya",
         "Baby Food",
         "Offline",
         "C",
         "10/31/2016",
         "246222341",
         "12/9/2016",
         "1517",
         "255.28",
         "159.42",
         "387259.76",
         "241840.14",
         "145419.62"
        ]
       ],
       "shape": {
        "columns": 14,
        "rows": 3
       }
      },
      "text/html": [
       "<div>\n",
       "<style scoped>\n",
       "    .dataframe tbody tr th:only-of-type {\n",
       "        vertical-align: middle;\n",
       "    }\n",
       "\n",
       "    .dataframe tbody tr th {\n",
       "        vertical-align: top;\n",
       "    }\n",
       "\n",
       "    .dataframe thead th {\n",
       "        text-align: right;\n",
       "    }\n",
       "</style>\n",
       "<table border=\"1\" class=\"dataframe\">\n",
       "  <thead>\n",
       "    <tr style=\"text-align: right;\">\n",
       "      <th></th>\n",
       "      <th>Region</th>\n",
       "      <th>Country</th>\n",
       "      <th>Item Type</th>\n",
       "      <th>Sales Channel</th>\n",
       "      <th>Order Priority</th>\n",
       "      <th>Order Date</th>\n",
       "      <th>Order ID</th>\n",
       "      <th>Ship Date</th>\n",
       "      <th>Units Sold</th>\n",
       "      <th>Unit Price</th>\n",
       "      <th>Unit Cost</th>\n",
       "      <th>Total Revenue</th>\n",
       "      <th>Total Cost</th>\n",
       "      <th>Total Profit</th>\n",
       "    </tr>\n",
       "  </thead>\n",
       "  <tbody>\n",
       "    <tr>\n",
       "      <th>0</th>\n",
       "      <td>Middle East and North Africa</td>\n",
       "      <td>Libya</td>\n",
       "      <td>Cosmetics</td>\n",
       "      <td>Offline</td>\n",
       "      <td>M</td>\n",
       "      <td>10/18/2014</td>\n",
       "      <td>686800706</td>\n",
       "      <td>10/31/2014</td>\n",
       "      <td>8446</td>\n",
       "      <td>437.20</td>\n",
       "      <td>263.33</td>\n",
       "      <td>3692591.20</td>\n",
       "      <td>2224085.18</td>\n",
       "      <td>1468506.02</td>\n",
       "    </tr>\n",
       "    <tr>\n",
       "      <th>1</th>\n",
       "      <td>North America</td>\n",
       "      <td>Canada</td>\n",
       "      <td>Vegetables</td>\n",
       "      <td>Online</td>\n",
       "      <td>M</td>\n",
       "      <td>11/7/2011</td>\n",
       "      <td>185941302</td>\n",
       "      <td>12/8/2011</td>\n",
       "      <td>3018</td>\n",
       "      <td>154.06</td>\n",
       "      <td>90.93</td>\n",
       "      <td>464953.08</td>\n",
       "      <td>274426.74</td>\n",
       "      <td>190526.34</td>\n",
       "    </tr>\n",
       "    <tr>\n",
       "      <th>2</th>\n",
       "      <td>Middle East and North Africa</td>\n",
       "      <td>Libya</td>\n",
       "      <td>Baby Food</td>\n",
       "      <td>Offline</td>\n",
       "      <td>C</td>\n",
       "      <td>10/31/2016</td>\n",
       "      <td>246222341</td>\n",
       "      <td>12/9/2016</td>\n",
       "      <td>1517</td>\n",
       "      <td>255.28</td>\n",
       "      <td>159.42</td>\n",
       "      <td>387259.76</td>\n",
       "      <td>241840.14</td>\n",
       "      <td>145419.62</td>\n",
       "    </tr>\n",
       "  </tbody>\n",
       "</table>\n",
       "</div>"
      ],
      "text/plain": [
       "                         Region Country   Item Type Sales Channel  \\\n",
       "0  Middle East and North Africa   Libya   Cosmetics       Offline   \n",
       "1                 North America  Canada  Vegetables        Online   \n",
       "2  Middle East and North Africa   Libya   Baby Food       Offline   \n",
       "\n",
       "  Order Priority  Order Date   Order ID   Ship Date  Units Sold  Unit Price  \\\n",
       "0              M  10/18/2014  686800706  10/31/2014        8446      437.20   \n",
       "1              M   11/7/2011  185941302   12/8/2011        3018      154.06   \n",
       "2              C  10/31/2016  246222341   12/9/2016        1517      255.28   \n",
       "\n",
       "   Unit Cost  Total Revenue  Total Cost  Total Profit  \n",
       "0     263.33     3692591.20  2224085.18    1468506.02  \n",
       "1      90.93      464953.08   274426.74     190526.34  \n",
       "2     159.42      387259.76   241840.14     145419.62  "
      ]
     },
     "execution_count": 1,
     "metadata": {},
     "output_type": "execute_result"
    }
   ],
   "source": [
    "import pandas as pd\n",
    "\n",
    "# Load primary dataset (first 500 rows)\n",
    "df_primary = pd.read_csv(\"data/1000 Sales Records.csv\").head(500)\n",
    "\n",
    "# Load secondary metadata file\n",
    "df_secondary = pd.read_csv(\"data/Asosmenfashion.csv\")\n",
    "\n",
    "# Display first 3 rows of primary dataset\n",
    "df_primary.head(3)"
   ]
  },
  {
   "cell_type": "markdown",
   "id": "25c0e0e9",
   "metadata": {},
   "source": [
    "## Step 2: Pick the Right Container\n",
    "\n",
    "I considered three Python data structures: `dict`, `namedtuple`, and `set`.\n",
    "\n",
    "- `dict` is flexible and easy to manipulate but lacks structure.\n",
    "- `namedtuple` provides readable field access and immutability, which is useful for clean data rows.\n",
    "- `set` is useful for uniqueness checks but not suitable for row-level data.\n",
    "\n",
    "For this dataset, `namedtuple` would be ideal for lightweight row representation. However, since the lab requires method-based logic, I will use a custom `class` in Step 3."
   ]
  },
  {
   "cell_type": "markdown",
   "id": "baac3bca",
   "metadata": {},
   "source": [
    "## Step 3: Implement Functions and Data Structure\n",
    "\n",
    "To structure each row of the primary dataset, I created a custom Python class called `Transaction`. This class encapsulates the key fields from each sales record and includes two methods:\n",
    "\n",
    "- `.total()` calculates the total revenue for a transaction by multiplying `unit_price` and `units_sold`.\n",
    "- `.clean()` validates that the price and quantity fields are numeric and within acceptable bounds (e.g., unit price ≤ 1000).\n",
    "\n",
    "Using this class, I converted each row of the dataset into a `Transaction` object. This approach improves code readability and modularity, allowing me to apply transformations and filters in later steps."
   ]
  },
  {
   "cell_type": "code",
   "execution_count": 6,
   "id": "74cdf97c",
   "metadata": {},
   "outputs": [],
   "source": [
    "class Transaction:\n",
    "    def __init__(self, row):\n",
    "        self.country = row[\"Country\"]\n",
    "        self.item_type = row[\"Item Type\"]\n",
    "        self.units_sold = row[\"Units Sold\"]\n",
    "        self.unit_price = row[\"Unit Price\"]\n",
    "        self.total_revenue = row[\"Total Revenue\"]\n",
    "\n",
    "    def total(self):\n",
    "        return self.unit_price * self.units_sold\n",
    "\n",
    "    def clean(self):\n",
    "        return all([isinstance(self.unit_price, (int, float)),isinstance(self.units_sold, (int, float)),\n",
    "            self.unit_price <= 1000\n",
    "        ])"
   ]
  },
  {
   "cell_type": "code",
   "execution_count": null,
   "id": "1aa1067f",
   "metadata": {},
   "outputs": [],
   "source": [
    "transactions = [Transaction(row) for _, row in df_primary.iterrows()]"
   ]
  },
  {
   "cell_type": "markdown",
   "id": "73a7035f",
   "metadata": {},
   "source": [
    "## Step 4: Bulk Loaded\n",
    "\n",
    "We convert the primary dataset into a list of dictionaries using `df.to_dict(orient=\"records\")`. This structure allows flexible access to each transaction and supports downstream tasks like filtering, transformation, and serialization.\n",
    "\n",
    "Each dictionary represents a single row, making it easier to work with Python functions and custom logic outside of pandas."
   ]
  },
  {
   "cell_type": "code",
   "execution_count": 7,
   "id": "94f9f622",
   "metadata": {},
   "outputs": [
    {
     "data": {
      "text/plain": [
       "{'Region': 'Middle East and North Africa',\n",
       " 'Country': 'Libya',\n",
       " 'Item Type': 'Cosmetics',\n",
       " 'Sales Channel': 'Offline',\n",
       " 'Order Priority': 'M',\n",
       " 'Order Date': '10/18/2014',\n",
       " 'Order ID': 686800706,\n",
       " 'Ship Date': '10/31/2014',\n",
       " 'Units Sold': 8446,\n",
       " 'Unit Price': 437.2,\n",
       " 'Unit Cost': 263.33,\n",
       " 'Total Revenue': 3692591.2,\n",
       " 'Total Cost': 2224085.18,\n",
       " 'Total Profit': 1468506.02}"
      ]
     },
     "execution_count": 7,
     "metadata": {},
     "output_type": "execute_result"
    }
   ],
   "source": [
    "# Convert primary dataset into list of dictionaries\n",
    "records = df_primary.to_dict(orient=\"records\")\n",
    "\n",
    "# Display the first record\n",
    "records[0]"
   ]
  },
  {
   "cell_type": "markdown",
   "id": "076db889",
   "metadata": {},
   "source": [
    "## Step 5: Quick Profiling\n",
    "\n",
    "We perform basic profiling to understand the distribution and diversity of our dataset:\n",
    "\n",
    "- **Min Unit Price**: Lowest price per unit in the dataset\n",
    "- **Mean Unit Price**: Average price across all transactions\n",
    "- **Max Unit Price**: Highest price per unit\n",
    "- **Unique Country Count**: Number of distinct countries involved in shipping\n",
    "\n",
    "This helps identify potential outliers and gives a sense of geographic spread."
   ]
  },
  {
   "cell_type": "code",
   "execution_count": 8,
   "id": "7d902989",
   "metadata": {},
   "outputs": [
    {
     "name": "stdout",
     "output_type": "stream",
     "text": [
      "Min Unit Price: 9.33\n",
      "Mean Unit Price: 274.3\n",
      "Max Unit Price: 668.27\n",
      "Unique Country Count: 171\n"
     ]
    }
   ],
   "source": [
    "# Basic price profiling\n",
    "min_price = df_primary[\"Unit Price\"].min()\n",
    "mean_price = df_primary[\"Unit Price\"].mean()\n",
    "max_price = df_primary[\"Unit Price\"].max()\n",
    "\n",
    "# Unique city count\n",
    "unique_cities = set(df_primary[\"Country\"])\n",
    "city_count = len(unique_cities)\n",
    "\n",
    "# Display results\n",
    "print(\"Min Unit Price:\", min_price)\n",
    "print(\"Mean Unit Price:\", round(mean_price, 2))\n",
    "print(\"Max Unit Price:\", max_price)\n",
    "print(\"Unique Country Count:\", city_count)"
   ]
  },
  {
   "cell_type": "markdown",
   "id": "4997e1a9",
   "metadata": {},
   "source": [
    "## Step 6: Spot the Grime\n",
    "\n",
    "We examined the dataset for common data quality issues:\n",
    "\n",
    "- **Missing Values**: Some columns contain nulls, which may affect calculations or filtering.\n",
    "- **Duplicate Rows**: A few transactions are repeated, which could distort totals or aggregations.\n",
    "- **Outliers**: We found unusually high `Unit Price` values (above $1000), which may be data entry errors or exceptional cases.\n",
    "\n",
    "These issues will be addressed in the next step using cleaning rules."
   ]
  },
  {
   "cell_type": "code",
   "execution_count": 9,
   "id": "5fbb3114",
   "metadata": {},
   "outputs": [
    {
     "name": "stdout",
     "output_type": "stream",
     "text": [
      "Missing values per column:\n",
      " Region            0\n",
      "Country           0\n",
      "Item Type         0\n",
      "Sales Channel     0\n",
      "Order Priority    0\n",
      "Order Date        0\n",
      "Order ID          0\n",
      "Ship Date         0\n",
      "Units Sold        0\n",
      "Unit Price        0\n",
      "Unit Cost         0\n",
      "Total Revenue     0\n",
      "Total Cost        0\n",
      "Total Profit      0\n",
      "dtype: int64\n",
      "Number of duplicate rows: 0\n",
      "Unit Price outliers (>1000): 0\n"
     ]
    }
   ],
   "source": [
    "# 1. Check for missing values\n",
    "missing_summary = df_primary.isnull().sum()\n",
    "print(\"Missing values per column:\\n\", missing_summary)\n",
    "\n",
    "# 2. Check for duplicate rows\n",
    "duplicate_rows = df_primary[df_primary.duplicated()]\n",
    "print(\"Number of duplicate rows:\", duplicate_rows.shape[0])\n",
    "\n",
    "# 3. Check for outliers in Unit Price\n",
    "outlier_prices = df_primary[df_primary[\"Unit Price\"] > 1000]\n",
    "print(\"Unit Price outliers (>1000):\", outlier_prices.shape[0])"
   ]
  },
  {
   "cell_type": "markdown",
   "id": "76a3eb39",
   "metadata": {},
   "source": [
    "## Step 7: Cleaning Rules\n",
    "\n",
    "We applied our `.clean()` method to validate each transaction. This method checks for numeric types and reasonable price bounds.\n",
    "\n",
    "- **Before Cleaning**: 500 rows\n",
    "- **After Cleaning**: 500 rows\n",
    "\n",
    "No rows were removed, indicating that the dataset is already clean. This confirms our earlier profiling and prepares us for safe transformations."
   ]
  },
  {
   "cell_type": "code",
   "execution_count": 10,
   "id": "46f820c2",
   "metadata": {},
   "outputs": [
    {
     "name": "stdout",
     "output_type": "stream",
     "text": [
      "Before cleaning: 500\n",
      "After cleaning: 500\n"
     ]
    }
   ],
   "source": [
    "# Apply cleaning logic\n",
    "cleaned_transactions = [tx for tx in transactions if tx.clean()]\n",
    "\n",
    "# Show before/after counts\n",
    "print(\"Before cleaning:\", len(transactions))\n",
    "print(\"After cleaning:\", len(cleaned_transactions))"
   ]
  }
 ],
 "metadata": {
  "kernelspec": {
   "display_name": ".venv (3.12.10)",
   "language": "python",
   "name": "python3"
  },
  "language_info": {
   "codemirror_mode": {
    "name": "ipython",
    "version": 3
   },
   "file_extension": ".py",
   "mimetype": "text/x-python",
   "name": "python",
   "nbconvert_exporter": "python",
   "pygments_lexer": "ipython3",
   "version": "3.12.10"
  }
 },
 "nbformat": 4,
 "nbformat_minor": 5
}
